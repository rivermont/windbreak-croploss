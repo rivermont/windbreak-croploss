{
 "cells": [
  {
   "cell_type": "markdown",
   "id": "fbb2cb35",
   "metadata": {},
   "source": [
    "1. [USDA CropScape data](https://nassgeodata.gmu.edu/CropScape/)\n",
    "2. Select county AOI\n",
    "3. Download county for 2017, **disable** frequency and mask, set projection to UTM 15\n",
    "4. Extract and rename to `CDL_2017_<FIPS>.tif`, where `<FIPS>` is the county FIPS code (`200001` for Allen)"
   ]
  },
  {
   "cell_type": "code",
   "execution_count": 1,
   "id": "f7cd03f9",
   "metadata": {},
   "outputs": [],
   "source": [
    "%%capture\n",
    "%%script false  # disable to run cell\n",
    "\n",
    "# Install required libraries\n",
    "!pip install rasterio numpy geopandas rasterstats"
   ]
  },
  {
   "cell_type": "code",
   "execution_count": 2,
   "id": "b64b60e1",
   "metadata": {},
   "outputs": [],
   "source": [
    "# Load required libraries\n",
    "import csv\n",
    "import rasterio\n",
    "from rasterio.features import shapes\n",
    "from shapely.geometry import shape\n",
    "import rasterstats\n",
    "import numpy as np\n",
    "import geopandas as gpd"
   ]
  },
  {
   "cell_type": "code",
   "execution_count": 3,
   "id": "7eedb1d1",
   "metadata": {},
   "outputs": [],
   "source": [
    "# Function to mask any raster by any value\n",
    "def mask_raster(src_path, value_to_keep, dst_path):\n",
    "    '''Entire crop raster -> Masked raster'''\n",
    "    with rasterio.open(src_path) as src:\n",
    "        raster_data = src.read()\n",
    "        mask = np.isin(raster_data, value_to_keep, invert=True)\n",
    "        masked_data = np.ma.masked_array(raster_data, mask=mask)\n",
    "        meta = src.meta\n",
    "    \n",
    "    with rasterio.open(dst_path, 'w+', **meta) as dst:\n",
    "        dst.write(masked_data)"
   ]
  },
  {
   "cell_type": "code",
   "execution_count": 4,
   "id": "b321fa8f",
   "metadata": {},
   "outputs": [],
   "source": [
    "# Function to convert crop raster to shp\n",
    "def crop_to_shp(src_path, fips, crop):\n",
    "    '''Masked crop raster -> Shapefile'''\n",
    "    with rasterio.open(src_path) as src:\n",
    "        raster_data = src.read(1)\n",
    "        shapes_ = list(shapes(raster_data, mask=None, transform=src.transform))\n",
    "    \n",
    "    polygons = []\n",
    "    for geom, val in shapes_:\n",
    "        if val == crop:  # select only crop polygons\n",
    "            polygons.append({'geometry': shape(geom)})\n",
    "    \n",
    "    gdf = gpd.GeoDataFrame(polygons)\n",
    "    gdf = gdf.set_crs(src.crs)  # set CRS\n",
    "    \n",
    "    gdf['area'] = gdf.geometry.area\n",
    "    \n",
    "    output_shapefile = f'crop_{crop}_{fips}.shp'\n",
    "    gdf.to_file(output_shapefile)"
   ]
  },
  {
   "cell_type": "markdown",
   "id": "7177499c",
   "metadata": {},
   "source": [
    "### TODO: Rename all county TOFI files to `TOFI_2017_<FIPS>.tif`"
   ]
  },
  {
   "cell_type": "code",
   "execution_count": 5,
   "id": "9ef08f24",
   "metadata": {},
   "outputs": [
    {
     "ename": "AttributeError",
     "evalue": "You are calling a geospatial method on the GeoDataFrame, but the active geometry column to use has not been set. \nThere are no existing columns with geometry data type. You can add a geometry column as the active geometry column with df.set_geometry. ",
     "output_type": "error",
     "traceback": [
      "\u001b[1;31m---------------------------------------------------------------------------\u001b[0m",
      "\u001b[1;31mAttributeError\u001b[0m                            Traceback (most recent call last)",
      "\u001b[1;32mC:\\Users\\local_bennettwj1\\Temp\\ipykernel_18528\\1973609035.py\u001b[0m in \u001b[0;36m<cell line: 6>\u001b[1;34m()\u001b[0m\n\u001b[0;32m     16\u001b[0m         \u001b[0mmask_raster\u001b[0m\u001b[1;33m(\u001b[0m\u001b[0mtree_file\u001b[0m\u001b[1;33m,\u001b[0m \u001b[1;36m1\u001b[0m\u001b[1;33m,\u001b[0m \u001b[0mtree_mask_file\u001b[0m\u001b[1;33m)\u001b[0m\u001b[1;33m\u001b[0m\u001b[1;33m\u001b[0m\u001b[0m\n\u001b[0;32m     17\u001b[0m \u001b[1;33m\u001b[0m\u001b[0m\n\u001b[1;32m---> 18\u001b[1;33m         \u001b[0mcrop_to_shp\u001b[0m\u001b[1;33m(\u001b[0m\u001b[0mcrop_mask_file\u001b[0m\u001b[1;33m,\u001b[0m \u001b[0mfips\u001b[0m\u001b[1;33m,\u001b[0m \u001b[0mcrop\u001b[0m\u001b[1;33m)\u001b[0m\u001b[1;33m\u001b[0m\u001b[1;33m\u001b[0m\u001b[0m\n\u001b[0m\u001b[0;32m     19\u001b[0m \u001b[1;33m\u001b[0m\u001b[0m\n\u001b[0;32m     20\u001b[0m         \u001b[1;31m# TODO: Buffer\u001b[0m\u001b[1;33m\u001b[0m\u001b[1;33m\u001b[0m\u001b[0m\n",
      "\u001b[1;32mC:\\Users\\local_bennettwj1\\Temp\\ipykernel_18528\\3608766858.py\u001b[0m in \u001b[0;36mcrop_to_shp\u001b[1;34m(src_path, fips, crop)\u001b[0m\n\u001b[0;32m     12\u001b[0m \u001b[1;33m\u001b[0m\u001b[0m\n\u001b[0;32m     13\u001b[0m     \u001b[0mgdf\u001b[0m \u001b[1;33m=\u001b[0m \u001b[0mgpd\u001b[0m\u001b[1;33m.\u001b[0m\u001b[0mGeoDataFrame\u001b[0m\u001b[1;33m(\u001b[0m\u001b[0mpolygons\u001b[0m\u001b[1;33m)\u001b[0m\u001b[1;33m\u001b[0m\u001b[1;33m\u001b[0m\u001b[0m\n\u001b[1;32m---> 14\u001b[1;33m     \u001b[0mgdf\u001b[0m \u001b[1;33m=\u001b[0m \u001b[0mgdf\u001b[0m\u001b[1;33m.\u001b[0m\u001b[0mset_crs\u001b[0m\u001b[1;33m(\u001b[0m\u001b[0msrc\u001b[0m\u001b[1;33m.\u001b[0m\u001b[0mcrs\u001b[0m\u001b[1;33m)\u001b[0m  \u001b[1;31m# set CRS\u001b[0m\u001b[1;33m\u001b[0m\u001b[1;33m\u001b[0m\u001b[0m\n\u001b[0m\u001b[0;32m     15\u001b[0m \u001b[1;33m\u001b[0m\u001b[0m\n\u001b[0;32m     16\u001b[0m     \u001b[0mgdf\u001b[0m\u001b[1;33m[\u001b[0m\u001b[1;34m'area'\u001b[0m\u001b[1;33m]\u001b[0m \u001b[1;33m=\u001b[0m \u001b[0mgdf\u001b[0m\u001b[1;33m.\u001b[0m\u001b[0mgeometry\u001b[0m\u001b[1;33m.\u001b[0m\u001b[0marea\u001b[0m\u001b[1;33m\u001b[0m\u001b[1;33m\u001b[0m\u001b[0m\n",
      "\u001b[1;32m~\\AppData\\Roaming\\Python\\Python39\\site-packages\\geopandas\\geodataframe.py\u001b[0m in \u001b[0;36mset_crs\u001b[1;34m(self, crs, epsg, inplace, allow_override)\u001b[0m\n\u001b[0;32m   1320\u001b[0m         \u001b[1;32melse\u001b[0m\u001b[1;33m:\u001b[0m\u001b[1;33m\u001b[0m\u001b[1;33m\u001b[0m\u001b[0m\n\u001b[0;32m   1321\u001b[0m             \u001b[0mdf\u001b[0m \u001b[1;33m=\u001b[0m \u001b[0mself\u001b[0m\u001b[1;33m\u001b[0m\u001b[1;33m\u001b[0m\u001b[0m\n\u001b[1;32m-> 1322\u001b[1;33m         df.geometry = df.geometry.set_crs(\n\u001b[0m\u001b[0;32m   1323\u001b[0m             \u001b[0mcrs\u001b[0m\u001b[1;33m=\u001b[0m\u001b[0mcrs\u001b[0m\u001b[1;33m,\u001b[0m \u001b[0mepsg\u001b[0m\u001b[1;33m=\u001b[0m\u001b[0mepsg\u001b[0m\u001b[1;33m,\u001b[0m \u001b[0mallow_override\u001b[0m\u001b[1;33m=\u001b[0m\u001b[0mallow_override\u001b[0m\u001b[1;33m,\u001b[0m \u001b[0minplace\u001b[0m\u001b[1;33m=\u001b[0m\u001b[1;32mTrue\u001b[0m\u001b[1;33m\u001b[0m\u001b[1;33m\u001b[0m\u001b[0m\n\u001b[0;32m   1324\u001b[0m         )\n",
      "\u001b[1;32mC:\\Program Files\\ArcGIS\\Pro\\bin\\Python\\envs\\arcgispro-py3\\lib\\site-packages\\pandas\\core\\generic.py\u001b[0m in \u001b[0;36m__getattr__\u001b[1;34m(self, name)\u001b[0m\n\u001b[0;32m   5573\u001b[0m         ):\n\u001b[0;32m   5574\u001b[0m             \u001b[1;32mreturn\u001b[0m \u001b[0mself\u001b[0m\u001b[1;33m[\u001b[0m\u001b[0mname\u001b[0m\u001b[1;33m]\u001b[0m\u001b[1;33m\u001b[0m\u001b[1;33m\u001b[0m\u001b[0m\n\u001b[1;32m-> 5575\u001b[1;33m         \u001b[1;32mreturn\u001b[0m \u001b[0mobject\u001b[0m\u001b[1;33m.\u001b[0m\u001b[0m__getattribute__\u001b[0m\u001b[1;33m(\u001b[0m\u001b[0mself\u001b[0m\u001b[1;33m,\u001b[0m \u001b[0mname\u001b[0m\u001b[1;33m)\u001b[0m\u001b[1;33m\u001b[0m\u001b[1;33m\u001b[0m\u001b[0m\n\u001b[0m\u001b[0;32m   5576\u001b[0m \u001b[1;33m\u001b[0m\u001b[0m\n\u001b[0;32m   5577\u001b[0m     \u001b[1;32mdef\u001b[0m \u001b[0m__setattr__\u001b[0m\u001b[1;33m(\u001b[0m\u001b[0mself\u001b[0m\u001b[1;33m,\u001b[0m \u001b[0mname\u001b[0m\u001b[1;33m:\u001b[0m \u001b[0mstr\u001b[0m\u001b[1;33m,\u001b[0m \u001b[0mvalue\u001b[0m\u001b[1;33m)\u001b[0m \u001b[1;33m->\u001b[0m \u001b[1;32mNone\u001b[0m\u001b[1;33m:\u001b[0m\u001b[1;33m\u001b[0m\u001b[1;33m\u001b[0m\u001b[0m\n",
      "\u001b[1;32m~\\AppData\\Roaming\\Python\\Python39\\site-packages\\geopandas\\geodataframe.py\u001b[0m in \u001b[0;36m_get_geometry\u001b[1;34m(self)\u001b[0m\n\u001b[0;32m    234\u001b[0m                 )\n\u001b[0;32m    235\u001b[0m \u001b[1;33m\u001b[0m\u001b[0m\n\u001b[1;32m--> 236\u001b[1;33m             \u001b[1;32mraise\u001b[0m \u001b[0mAttributeError\u001b[0m\u001b[1;33m(\u001b[0m\u001b[0mmsg\u001b[0m\u001b[1;33m)\u001b[0m\u001b[1;33m\u001b[0m\u001b[1;33m\u001b[0m\u001b[0m\n\u001b[0m\u001b[0;32m    237\u001b[0m         \u001b[1;32mreturn\u001b[0m \u001b[0mself\u001b[0m\u001b[1;33m[\u001b[0m\u001b[0mself\u001b[0m\u001b[1;33m.\u001b[0m\u001b[0m_geometry_column_name\u001b[0m\u001b[1;33m]\u001b[0m\u001b[1;33m\u001b[0m\u001b[1;33m\u001b[0m\u001b[0m\n\u001b[0;32m    238\u001b[0m \u001b[1;33m\u001b[0m\u001b[0m\n",
      "\u001b[1;31mAttributeError\u001b[0m: You are calling a geospatial method on the GeoDataFrame, but the active geometry column to use has not been set. \nThere are no existing columns with geometry data type. You can add a geometry column as the active geometry column with df.set_geometry. "
     ]
    }
   ],
   "source": [
    "fipses = [20001]\n",
    "# crops = [1, 5, 6, 23, 24, 26, 225, 226, 236, 237, 238, 240, 241, 254]\n",
    "crops = [1, 5]\n",
    "\n",
    "data = []\n",
    "\n",
    "for crop in crops:\n",
    "    # TODO: extract crop raster from state file\n",
    "    try:\n",
    "        for fips in fipses:\n",
    "            crop_file = f'CDL_2017_{fips}.tif'\n",
    "            tree_file = f'TOFI_2017_{fips}.tif'\n",
    "            crop_mask_file = f'masked_{crop}_{crop_file}'\n",
    "            tree_mask_file = f'masked_TOFI_2017_{fips}.tif'\n",
    "            shp_file = f'crop_{crop}_{fips}.shp'\n",
    "\n",
    "            mask_raster(crop_file, crop, crop_mask_file)  # TODO: update and move to memory when looping crops\n",
    "            mask_raster(tree_file, 1, tree_mask_file)\n",
    "\n",
    "            crop_to_shp(crop_mask_file, fips, crop)\n",
    "\n",
    "            # TODO: Buffer\n",
    "\n",
    "            # Count tree pixels\n",
    "            # TODO: there must be a faster method than zonal_stats\n",
    "            stats = rasterstats.zonal_stats(vectors=shp_file,\n",
    "                                            raster=tree_mask_file,\n",
    "                                            stats=['sum'],\n",
    "                                            nodata=-9999,\n",
    "                                            all_touched=True)\n",
    "\n",
    "            tree_px = sum([x['sum'] for x in stats])\n",
    "\n",
    "            # calc crop area\n",
    "            # crop resolution is 30m, so 'area' is in m^2\n",
    "            # tree resolution is 2m\n",
    "\n",
    "            gdf = gpd.read_file(shp_file)\n",
    "            crop_area = gdf['area'].sum()\n",
    "\n",
    "            # pdf.plot()\n",
    "\n",
    "            # assemble data output\n",
    "            data.append({'fips': fips, 'crop_id': crop, 'crop_area_m2': crop_area, 'tree_area_m2': tree_px*4})\n",
    "        \n",
    "        except AttributeError: pass  # crop type not in county\n",
    "\n",
    "# write data to csv\n",
    "header = ['fips', 'crop_id', 'crop_area_m2', 'tree_area_m2']\n",
    "with open('output.csv', 'w', newline='') as f:\n",
    "    writer = csv.DictWriter(f, fieldnames=header)\n",
    "    writer.writeheader()\n",
    "    writer.writerows(data)"
   ]
  }
 ],
 "metadata": {
  "kernelspec": {
   "display_name": "Python 3 (ipykernel)",
   "language": "python",
   "name": "python3"
  },
  "language_info": {
   "codemirror_mode": {
    "name": "ipython",
    "version": 3
   },
   "file_extension": ".py",
   "mimetype": "text/x-python",
   "name": "python",
   "nbconvert_exporter": "python",
   "pygments_lexer": "ipython3",
   "version": "3.9.16"
  }
 },
 "nbformat": 4,
 "nbformat_minor": 5
}
