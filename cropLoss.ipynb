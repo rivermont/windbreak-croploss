{
 "cells": [
  {
   "cell_type": "markdown",
   "id": "fbb2cb35",
   "metadata": {},
   "source": [
    "1. [USDA CropScape data](https://nassgeodata.gmu.edu/CropScape/)\n",
    "2. Select county AOI\n",
    "3. Download county for 2017, **disable** frequency and mask, set projection to UTM 15\n",
    "4. Extract and rename to `CDL_2017_<FIPS>.tif`, where `<FIPS>` is the county FIPS code (`200001` for Allen)"
   ]
  },
  {
   "cell_type": "code",
   "execution_count": 1,
   "id": "f7cd03f9",
   "metadata": {},
   "outputs": [],
   "source": [
    "%%capture\n",
    "%%script false  # disable to run cell\n",
    "\n",
    "# Install required libraries\n",
    "!pip install rasterio numpy geopandas rasterstats"
   ]
  },
  {
   "cell_type": "code",
   "execution_count": 2,
   "id": "b64b60e1",
   "metadata": {},
   "outputs": [],
   "source": [
    "# Load required libraries\n",
    "import csv\n",
    "import rasterio\n",
    "from rasterio.features import shapes\n",
    "from shapely.geometry import shape\n",
    "import rasterstats\n",
    "import numpy as np\n",
    "import geopandas as gpd\n",
    "from os.path import exists"
   ]
  },
  {
   "cell_type": "code",
   "execution_count": 3,
   "id": "7eedb1d1",
   "metadata": {},
   "outputs": [],
   "source": [
    "# Function to mask any raster by any value\n",
    "def mask_raster(src_path, value_to_keep, dst_path):\n",
    "    '''Entire crop raster -> Masked raster'''\n",
    "    with rasterio.open(src_path) as src:\n",
    "        raster_data = src.read()\n",
    "        mask = np.isin(raster_data, value_to_keep, invert=True)\n",
    "        masked_data = np.ma.masked_array(raster_data, mask=mask)\n",
    "        meta = src.meta\n",
    "    \n",
    "    with rasterio.open(dst_path, 'w+', **meta) as dst:\n",
    "        dst.write(masked_data)"
   ]
  },
  {
   "cell_type": "code",
   "execution_count": 4,
   "id": "b321fa8f",
   "metadata": {},
   "outputs": [],
   "source": [
    "# Function to convert crop raster to GeoDataFrame\n",
    "def crop_to_gdf(src_path, fips, crop):\n",
    "    '''Masked crop raster -> GeoDataFrame'''\n",
    "    with rasterio.open(src_path) as src:\n",
    "        raster_data = src.read(1)\n",
    "        shapes_ = list(shapes(raster_data, mask=None, transform=src.transform))\n",
    "    \n",
    "    polygons = []\n",
    "    for geom, val in shapes_:\n",
    "        if val == crop:  # select only crop polygons\n",
    "            polygons.append({'geometry': shape(geom)})\n",
    "    \n",
    "    gdf = gpd.GeoDataFrame(polygons)\n",
    "    gdf = gdf.set_crs(src.crs)  # set CRS\n",
    "    \n",
    "    gdf['area'] = gdf.geometry.area\n",
    "    \n",
    "    return gdf"
   ]
  },
  {
   "cell_type": "code",
   "execution_count": 16,
   "id": "7d2e911a",
   "metadata": {},
   "outputs": [],
   "source": [
    "def process_crop(src_path, fips, crop, dest):\n",
    "    gdf = crop_to_gdf(src_path, fips, crop)\n",
    "    \n",
    "    # Remove small areas\n",
    "    selection = gdf.area > 2023  # 2023m2 is  0.5 acres\n",
    "    gdf = gdf.loc[selection]\n",
    "    \n",
    "    if gdf.empty:\n",
    "        raise AttributeError('No large enough polygons.')  # TODO: too lazy to pick better error\n",
    "    \n",
    "    # Buffer\n",
    "    gdf['geometry'] = gdf.buffer(60.96)  # 0.4 mile = 60.96m\n",
    "    \n",
    "    gdf.to_file(dest)"
   ]
  },
  {
   "cell_type": "markdown",
   "id": "7177499c",
   "metadata": {},
   "source": [
    "### TODO: Rename all county TOFI files to `TOFI_2017_<FIPS>.tif`"
   ]
  },
  {
   "cell_type": "code",
   "execution_count": 21,
   "id": "9ef08f24",
   "metadata": {},
   "outputs": [],
   "source": [
    "# fipses = [20001, 20003]\n",
    "fipses = range(20001, 20114, 2)\n",
    "# crops = [1, 5, 6, 23, 24, 26, 225, 226, 236, 237, 238, 240, 241, 254]\n",
    "crops = [1, 5, 24, 26]\n",
    "# crops = [240]\n",
    "\n",
    "prefix = 'D:\\\\windbreak-croploss\\\\'\n",
    "\n",
    "def main():\n",
    "    data = []\n",
    "    \n",
    "    for crop in crops:\n",
    "        # TODO: extract crop raster from state file\n",
    "            for fips in fipses:\n",
    "                print(fips, crop)  # for debug\n",
    "                try:\n",
    "                    crop_file = f'{prefix}sourcedata\\\\CDL_2017_{fips}.tif'\n",
    "                    tree_file = f'{prefix}sourcedata\\\\TOFI_2017_{fips}.tif'\n",
    "                    crop_mask_file = f'{prefix}data\\\\masked_{crop}_CDL_2017_{fips}.tif'\n",
    "                    tree_mask_file = f'{prefix}data\\\\masked_TOFI_2017_{fips}.tif'\n",
    "                    shp_file = f'{prefix}data\\\\crop_{crop}_{fips}.shp'\n",
    "                    \n",
    "                    if not exists(tree_mask_file):\n",
    "                        mask_raster(tree_file, 1, tree_mask_file)\n",
    "                    \n",
    "                    if not exists(shp_file):\n",
    "                        if not exists(crop_mask_file):\n",
    "                            mask_raster(crop_file, crop, crop_mask_file)\n",
    "                        process_crop(crop_mask_file, fips, crop, shp_file)\n",
    "                    \n",
    "                    # Count tree pixels\n",
    "                    # TODO: there must be a faster method than zonal_stats\n",
    "                    stats = rasterstats.zonal_stats(vectors=shp_file,\n",
    "                                                    raster=tree_mask_file,\n",
    "                                                    stats=['sum'],\n",
    "                                                    nodata=-9999,\n",
    "                                                    all_touched=True)\n",
    "                    \n",
    "                    tree_px = sum([x['sum'] for x in stats])\n",
    "                    \n",
    "                    # calc crop area\n",
    "                    # crop resolution is 30m, so 'area' is in m^2\n",
    "                    # tree resolution is 2m\n",
    "                    \n",
    "                    gdf = gpd.read_file(shp_file)\n",
    "                    crop_area = gdf['area'].sum()\n",
    "                    \n",
    "                    # gdf.plot()\n",
    "                    \n",
    "                    # assemble data output\n",
    "                    data.append({'fips': fips, 'crop_id': crop, 'crop_area_m2': crop_area, 'tree_area_m2': tree_px*4})\n",
    "                \n",
    "                except AttributeError:  # crop type not in county\n",
    "                    print(f'County {fips} has no crop of id {crop}.')\n",
    "                    pass\n",
    "    \n",
    "    # write data to csv\n",
    "    header = ['fips', 'crop_id', 'crop_area_m2', 'tree_area_m2']\n",
    "    with open('output.csv', 'w', newline='') as f:\n",
    "        writer = csv.DictWriter(f, fieldnames=header)\n",
    "        writer.writeheader()\n",
    "        writer.writerows(data)"
   ]
  },
  {
   "cell_type": "code",
   "execution_count": null,
   "id": "8b8c601d",
   "metadata": {},
   "outputs": [
    {
     "name": "stdout",
     "output_type": "stream",
     "text": [
      "20001 1\n",
      "20003 1\n",
      "20005 1\n",
      "20007 1\n",
      "20009 1\n",
      "20011 1\n",
      "20013 1\n",
      "20015 1\n",
      "20017 1\n",
      "20019 1\n",
      "20021 1\n",
      "20023 1\n",
      "20025 1\n",
      "20027 1\n",
      "20029 1\n",
      "20031 1\n",
      "20033 1\n",
      "20035 1\n",
      "20037 1\n",
      "20039 1\n"
     ]
    }
   ],
   "source": [
    "import cProfile\n",
    "\n",
    "cProfile.run('main()')"
   ]
  }
 ],
 "metadata": {
  "kernelspec": {
   "display_name": "Python 3 (ipykernel)",
   "language": "python",
   "name": "python3"
  },
  "language_info": {
   "codemirror_mode": {
    "name": "ipython",
    "version": 3
   },
   "file_extension": ".py",
   "mimetype": "text/x-python",
   "name": "python",
   "nbconvert_exporter": "python",
   "pygments_lexer": "ipython3",
   "version": "3.9.16"
  }
 },
 "nbformat": 4,
 "nbformat_minor": 5
}
